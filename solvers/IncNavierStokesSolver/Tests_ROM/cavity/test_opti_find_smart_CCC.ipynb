{
 "cells": [
  {
   "cell_type": "code",
   "execution_count": null,
   "metadata": {},
   "outputs": [],
   "source": [
    "from __future__ import absolute_import, division, print_function, unicode_literals\n",
    "\n",
    "# TensorFlow and tf.keras\n",
    "import tensorflow as tf\n",
    "from tensorflow import keras\n",
    "from tensorflow.keras.callbacks import EarlyStopping\n",
    "\n",
    "\n",
    "# Helper libraries\n",
    "import numpy as np\n",
    "import matplotlib.pyplot as plt\n",
    "\n",
    "print(tf.__version__)\n"
   ]
  },
  {
   "cell_type": "code",
   "execution_count": null,
   "metadata": {},
   "outputs": [],
   "source": [
    "f_samples_optimal_clustering = open('samples_optimal_clustering.txt', 'r')\n",
    "samples_optimal_clustering = np.loadtxt(f_samples_optimal_clustering)\n",
    "print(samples_optimal_clustering)\n",
    "f_sample_grid_d1 = open('sample_grid_d1.txt', 'r')\n",
    "#sample_grid_d1 = 2*(np.loadtxt(f_sample_grid_d1) - 0.5)\n",
    "sample_grid_d1 = np.loadtxt(f_sample_grid_d1)\n",
    "print(sample_grid_d1)\n",
    "f_sample_grid_d2 = open('sample_grid_d2.txt', 'r')\n",
    "#sample_grid_d2 = 10*(np.loadtxt(f_sample_grid_d2) - 0.1)\n",
    "sample_grid_d2 = np.loadtxt(f_sample_grid_d2)\n",
    "print(sample_grid_d2)\n",
    "f_lcs0 = open('LocROM_cluster_snap0.txt', 'r')\n",
    "lcs0 = np.loadtxt(f_lcs0)\n",
    "f_lcs1 = open('LocROM_cluster_snap1.txt', 'r')\n",
    "lcs1 = np.loadtxt(f_lcs1)\n",
    "f_lcs2 = open('LocROM_cluster_snap2.txt', 'r')\n",
    "lcs2 = np.loadtxt(f_lcs2)\n",
    "f_lcs3 = open('LocROM_cluster_snap3.txt', 'r')\n",
    "lcs3 = np.loadtxt(f_lcs3)\n",
    "f_lcs4 = open('LocROM_cluster_snap4.txt', 'r')\n",
    "lcs4 = np.loadtxt(f_lcs4)\n",
    "f_lcs5 = open('LocROM_cluster_snap5.txt', 'r')\n",
    "lcs5 = np.loadtxt(f_lcs5)\n",
    "f_lcs6 = open('LocROM_cluster_snap6.txt', 'r')\n",
    "lcs6 = np.loadtxt(f_lcs6)\n",
    "f_lcs7 = open('LocROM_cluster_snap7.txt', 'r')\n",
    "lcs7 = np.loadtxt(f_lcs7)\n",
    "print(lcs0.shape)"
   ]
  },
  {
   "cell_type": "code",
   "execution_count": null,
   "metadata": {},
   "outputs": [],
   "source": [
    "print(samples_optimal_clustering.shape)\n",
    "print(sample_grid_d1.shape)\n",
    "print(sample_grid_d2.shape)\n"
   ]
  },
  {
   "cell_type": "code",
   "execution_count": null,
   "metadata": {},
   "outputs": [],
   "source": [
    "#train_values = samples_optimal_clustering.reshape(110)\n",
    "train_values = np.concatenate((lcs0, lcs1, lcs2, lcs3, lcs4, lcs5, lcs6, lcs7))\n",
    "#print(train_values)\n",
    "train_values = np.reshape(train_values,(lcs0.shape[0],8), order='F')\n",
    "print(train_values.shape)\n",
    "train_values = 1./train_values\n",
    "np.argmax(train_values, axis = 1)\n",
    "total_sum = np.max(train_values)\n",
    "print(total_sum)\n",
    "for i in range(0,train_values.shape[0]):\n",
    "    for j in range(0, train_values.shape[1]):\n",
    "        if train_values[i,j] > 1e+3:\n",
    "            train_values[i,j] = 1e+3\n",
    "    sum_row = np.sum(train_values[i,:])\n",
    "    train_values[i,:] = train_values[i,:] / sum_row\n",
    "    #max_row = np.max(train_values[i,:])\n",
    "    #train_values[i,:] = train_values[i,:] / 1e+3\n",
    "    #train_values[i,:] = lcs0.shape[0] * train_values[i,:] / total_sum\n",
    "    #print(sum_row)\n",
    "print(train_values)"
   ]
  },
  {
   "cell_type": "code",
   "execution_count": null,
   "metadata": {},
   "outputs": [],
   "source": [
    "f_sample_grid = open('sample_grid.txt', 'r')\n",
    "sample_grid = np.loadtxt(f_sample_grid)\n",
    "print(sample_grid.shape)\n",
    "#print(sample_grid)"
   ]
  },
  {
   "cell_type": "code",
   "execution_count": null,
   "metadata": {},
   "outputs": [],
   "source": [
    "model = keras.Sequential([\n",
    "    keras.layers.Dense(512, activation='relu', input_shape=[2]),\n",
    "    keras.layers.Dense(512, activation='relu'),\n",
    "    keras.layers.Dense(512, activation='relu'),\n",
    "    keras.layers.Dense(512, activation='relu'),\n",
    "    keras.layers.Dense(512, activation='relu'),\n",
    "    keras.layers.Dense(512, activation='relu'),\n",
    "    keras.layers.Dense(512, activation='relu'),\n",
    "    keras.layers.Dense(8)\n",
    "])"
   ]
  },
  {
   "cell_type": "code",
   "execution_count": null,
   "metadata": {},
   "outputs": [],
   "source": [
    "es = EarlyStopping(monitor='mean_squared_error', min_delta = 0, patience = 1000, mode='min',verbose=1, restore_best_weights = 1)\n",
    "sgd = keras.optimizers.SGD(lr=0.3, decay=1e-6, momentum=0.9, nesterov=True)\n",
    "model.compile(optimizer=sgd,\n",
    "              loss='mse',\n",
    "              metrics=['mse'])"
   ]
  },
  {
   "cell_type": "code",
   "execution_count": null,
   "metadata": {},
   "outputs": [],
   "source": [
    "model.fit(sample_grid, train_values, epochs=20000, callbacks=[es])"
   ]
  },
  {
   "cell_type": "code",
   "execution_count": null,
   "metadata": {},
   "outputs": [],
   "source": [
    "pred_sg = model.predict(sample_grid)\n",
    "print(pred_sg.shape)"
   ]
  },
  {
   "cell_type": "code",
   "execution_count": null,
   "metadata": {},
   "outputs": [],
   "source": [
    "np.argmax(pred_sg, axis=1)\n"
   ]
  },
  {
   "cell_type": "code",
   "execution_count": null,
   "metadata": {},
   "outputs": [],
   "source": [
    "np.argmax(train_values, axis = 1)"
   ]
  },
  {
   "cell_type": "code",
   "execution_count": null,
   "metadata": {},
   "outputs": [],
   "source": [
    "np.argmax(pred_sg, axis=1) - np.argmax(train_values, axis = 1)"
   ]
  },
  {
   "cell_type": "code",
   "execution_count": null,
   "metadata": {},
   "outputs": [],
   "source": [
    "f_fine_sample_grid = open('fine_sample_grid.txt', 'r')\n",
    "fine_sample_grid = np.loadtxt(f_fine_sample_grid)\n",
    "print(fine_sample_grid.shape)"
   ]
  },
  {
   "cell_type": "code",
   "execution_count": null,
   "metadata": {},
   "outputs": [],
   "source": [
    "pred_fsg = model.predict(fine_sample_grid)\n",
    "np.set_printoptions(threshold=np.inf)\n",
    "#np.argmax(pred_fsg, axis=1)"
   ]
  },
  {
   "cell_type": "code",
   "execution_count": null,
   "metadata": {},
   "outputs": [],
   "source": [
    "f_combination_optimal_c = open('combination_optimal_c.txt', 'r')\n",
    "combination_optimal_c = np.loadtxt(f_combination_optimal_c)\n",
    "#print(combination_optimal_c)\n",
    "#print(sample_grid.shape)\n",
    "#print(train_values.shape)\n",
    "#print(combination_optimal_c.shape)\n",
    "#detailed_train_values = combination_optimal_c.reshape(1640)\n",
    "#print(detailed_train_values.shape)"
   ]
  },
  {
   "cell_type": "code",
   "execution_count": null,
   "metadata": {},
   "outputs": [],
   "source": [
    "#model_2 = keras.Sequential([\n",
    "#    keras.layers.Dense(2, activation='relu'),\n",
    "#    keras.layers.Dense(1024, activation='relu'),\n",
    "#    keras.layers.Dense(1024, activation='relu'),\n",
    "#    keras.layers.Dense(8, activation='softmax')\n",
    "#])\n",
    "#model_2.compile(optimizer='adam',\n",
    "#              loss='sparse_categorical_crossentropy',\n",
    "#              metrics=['accuracy'])\n",
    "#model_2.fit(fine_sample_grid, detailed_train_values, epochs=500)"
   ]
  },
  {
   "cell_type": "code",
   "execution_count": null,
   "metadata": {},
   "outputs": [],
   "source": [
    "#pred_mod2 = model_2.predict(fine_sample_grid)\n",
    "#save_pred_mod2_fsg = np.argmax(pred_mod2, axis=1)\n",
    "#np.savetxt('save_pred_mod2_fsg.txt', save_pred_mod2_fsg)"
   ]
  },
  {
   "cell_type": "code",
   "execution_count": null,
   "metadata": {},
   "outputs": [],
   "source": [
    "pred_mod1 = np.argmax(pred_fsg, axis=1)\n",
    "np.savetxt('test_opti_smart_save_pred_mod1_fsg.txt', pred_mod1)\n",
    "pred_mod1 = np.reshape(pred_mod1,combination_optimal_c.shape, order='C')\n",
    "#print(pred_mod1)\n",
    "#print(combination_optimal_c)\n",
    "#print(pred_mod1 - combination_optimal_c)\n",
    "np.count_nonzero(pred_mod1 - combination_optimal_c)\n"
   ]
  },
  {
   "cell_type": "code",
   "execution_count": null,
   "metadata": {},
   "outputs": [],
   "source": []
  },
  {
   "cell_type": "code",
   "execution_count": null,
   "metadata": {},
   "outputs": [],
   "source": []
  }
 ],
 "metadata": {
  "kernelspec": {
   "display_name": "Python 3",
   "language": "python",
   "name": "python3"
  },
  "language_info": {
   "codemirror_mode": {
    "name": "ipython",
    "version": 3
   },
   "file_extension": ".py",
   "mimetype": "text/x-python",
   "name": "python",
   "nbconvert_exporter": "python",
   "pygments_lexer": "ipython3",
   "version": "3.8.5"
  }
 },
 "nbformat": 4,
 "nbformat_minor": 2
}
