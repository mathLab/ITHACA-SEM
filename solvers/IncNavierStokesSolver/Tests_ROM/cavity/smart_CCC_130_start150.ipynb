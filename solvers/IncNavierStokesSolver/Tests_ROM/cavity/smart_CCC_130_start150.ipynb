{
 "cells": [
  {
   "cell_type": "code",
   "execution_count": null,
   "metadata": {},
   "outputs": [],
   "source": [
    "from __future__ import absolute_import, division, print_function, unicode_literals\n",
    "\n",
    "# TensorFlow and tf.keras\n",
    "import tensorflow as tf\n",
    "from tensorflow import keras\n",
    "from tensorflow.keras.callbacks import EarlyStopping\n",
    "\n",
    "# Helper libraries\n",
    "import numpy as np\n",
    "import matplotlib.pyplot as plt\n",
    "\n",
    "print(tf.__version__)\n"
   ]
  },
  {
   "cell_type": "code",
   "execution_count": null,
   "metadata": {},
   "outputs": [],
   "source": [
    "f_x30 = open('130_triple/VCS_fields_TT_x_ROM.txt', 'r')\n",
    "x30 = np.loadtxt(f_x30)\n",
    "x30 = x30[::100,:]\n",
    "print(x30.shape)\n",
    "f_y30 = open('130_triple/VCS_fields_TT_y_ROM.txt', 'r')\n",
    "y30 = np.loadtxt(f_y30)\n",
    "y30 = y30[::100,:]\n",
    "print(y30.shape)\n",
    "#f_x28 = open('28_single/VCS_fields_TT_x_ROM.txt', 'r')\n",
    "#x28 = np.loadtxt(f_x28)\n",
    "#print(x28.shape)\n",
    "#f_y28 = open('28_single/VCS_fields_TT_y_ROM.txt', 'r')\n",
    "#y28 = np.loadtxt(f_y28)\n",
    "#print(y28.shape)\n",
    "#print(x30[0:5,:])"
   ]
  },
  {
   "cell_type": "code",
   "execution_count": null,
   "metadata": {},
   "outputs": [],
   "source": [
    "dim_x = int(x30.shape[1])\n",
    "dim_y = int(y30.shape[1])\n",
    "print(dim_x)\n",
    "print(dim_y)\n",
    "#f_sample_grid_d1 = open('sample_grid_d1.txt', 'r')\n",
    "#sample_grid_d1 = 2*(np.loadtxt(f_sample_grid_d1) - 0.5)\n",
    "#sample_grid_d1 = np.loadtxt(f_sample_grid_d1)\n",
    "#print(sample_grid_d1)\n",
    "#f_sample_grid_d2 = open('sample_grid_d2.txt', 'r')\n",
    "#sample_grid_d2 = 10*(np.loadtxt(f_sample_grid_d2) - 0.1)\n",
    "#sample_grid_d2 = np.loadtxt(f_sample_grid_d2)\n",
    "#print(sample_grid_d2)"
   ]
  },
  {
   "cell_type": "code",
   "execution_count": null,
   "metadata": {},
   "outputs": [],
   "source": [
    "# the sample_grid are the rom_coords including the parameter\n",
    "# the train_values are the rom_coords at the next step\n",
    "#\n",
    "x30_sample_grid_tmp = np.delete(x30, (x30.shape[0]-1), axis=0)\n",
    "x30_train_values = np.delete(x30, (0), axis=0)\n",
    "#print(x30)\n",
    "#print(x30_sample_grid_tmp)\n",
    "#print(x30_train_values)\n",
    "x30_sample_grid = 30*np.ones((x30_sample_grid_tmp.shape[0],x30_sample_grid_tmp.shape[1]+1))\n",
    "x30_sample_grid[:,:-1] = x30_sample_grid_tmp\n",
    "#print(x30_sample_grid)\n",
    "print(x30_sample_grid.shape)\n",
    "print(x30_train_values.shape)\n",
    "\n",
    "# build the sample and train matrices when going over two timesteps\n",
    "x30_twostep = np.zeros((x30.shape[0]-1,x30.shape[1]*2))\n",
    "x30_twostep[:,0:x30.shape[1]] = x30[:-1,:]\n",
    "x30_twostep[:,x30.shape[1]:2*x30.shape[1]] = x30[1:,:]\n",
    "print(x30_twostep.shape)\n",
    "x30_sample_grid_tmp = np.delete(x30_twostep, (x30_twostep.shape[0]-1), axis=0)\n",
    "#x30_train_values = np.delete(x30_twostep, (0), axis=0)\n",
    "#x30_sample_grid = 30*np.ones((x30_sample_grid_tmp.shape[0],x30_sample_grid_tmp.shape[1]+1))\n",
    "#x30_sample_grid[:,:-1] = x30_sample_grid_tmp\n",
    "print(x30_sample_grid.shape)\n",
    "print(x30_train_values.shape)\n",
    "x30_3step = np.zeros((x30.shape[0]-2,x30.shape[1]*3))\n",
    "x30_3step[:,0:x30.shape[1]] = x30[:-2,:]\n",
    "x30_3step[:,x30.shape[1]:2*x30.shape[1]] = x30[1:-1,:]\n",
    "x30_3step[:,2*x30.shape[1]:3*x30.shape[1]] = x30[2:,:]\n",
    "print(x30_3step.shape)\n",
    "x30_sample_grid_tmp = np.delete(x30_3step, (x30_3step.shape[0]-1), axis=0)\n",
    "#x30_train_values = np.delete(x30_3step, (0), axis=0)\n",
    "#x30_sample_grid = 30*np.ones((x30_sample_grid_tmp.shape[0],x30_sample_grid_tmp.shape[1]+1))\n",
    "#x30_sample_grid[:,:-1] = x30_sample_grid_tmp\n",
    "print(x30_sample_grid.shape)\n",
    "print(x30_train_values.shape)\n",
    "x30_4step = np.zeros((x30.shape[0]-3,x30.shape[1]*4))\n",
    "x30_4step[:,0:x30.shape[1]] = x30[:-3,:]\n",
    "x30_4step[:,x30.shape[1]:2*x30.shape[1]] = x30[1:-2,:]\n",
    "x30_4step[:,2*x30.shape[1]:3*x30.shape[1]] = x30[2:-1,:]\n",
    "x30_4step[:,3*x30.shape[1]:4*x30.shape[1]] = x30[3:,:]\n",
    "x30_sample_grid_tmp = np.delete(x30_4step, (x30_4step.shape[0]-1), axis=0)\n",
    "x30_train_values = np.delete(x30_4step, (0), axis=0)\n",
    "x30_sample_grid = 30*np.ones((x30_sample_grid_tmp.shape[0],x30_sample_grid_tmp.shape[1]+1))\n",
    "x30_sample_grid[:,:-1] = x30_sample_grid_tmp\n",
    "print(x30_sample_grid.shape)\n",
    "print(x30_train_values.shape)\n"
   ]
  },
  {
   "cell_type": "code",
   "execution_count": null,
   "metadata": {},
   "outputs": [],
   "source": [
    "#train_values = samples_optimal_clustering.reshape(110)\n",
    "#train_values = np.concatenate((lcs0, lcs1, lcs2, lcs3, lcs4, lcs5, lcs6, lcs7))\n",
    "#print(train_values)\n",
    "#train_values = np.reshape(train_values,(lcs0.shape[0],8), order='F')\n",
    "#print(train_values.shape)\n",
    "#train_values = 1./train_values\n",
    "#np.argmax(train_values, axis = 1)\n",
    "#for i in range(0,train_values.shape[0]):\n",
    "#    sum_row = np.sum(train_values[i,:])\n",
    "#    train_values[i,:] = train_values[i,:] / sum_row\n",
    "    #print(sum_row)\n",
    "#print(train_values)\n",
    "#train_values = np.transpose(trainANN)\n",
    "#print(trainANN)\n",
    "#print(train_values.shape)\n",
    "#print(train_values.shape[1])\n",
    "fig, ax = plt.subplots()  # Create a figure containing a single axes.\n",
    "#ax.plot([1, 2, 3, 4], [1, 4, 2, 3])  # Plot some data on the axes.\n",
    "ax.plot(x30[:,0])"
   ]
  },
  {
   "cell_type": "code",
   "execution_count": null,
   "metadata": {},
   "outputs": [],
   "source": [
    "model = keras.Sequential([\n",
    "    keras.layers.Dense(512, activation='relu', input_shape=[x30_sample_grid.shape[1]]),\n",
    "    keras.layers.Dense(512, activation='relu'),\n",
    "    keras.layers.Dense(512, activation='relu'),\n",
    "    keras.layers.Dense(512, activation='relu'),\n",
    "    keras.layers.Dense(x30_train_values.shape[1])\n",
    "])"
   ]
  },
  {
   "cell_type": "code",
   "execution_count": null,
   "metadata": {},
   "outputs": [],
   "source": [
    "es = EarlyStopping(monitor='mse', min_delta = 0, patience = 100, mode='min',verbose=1, restore_best_weights = 1)\n",
    "\n",
    "model.compile(optimizer='adam',\n",
    "              loss='mse',\n",
    "              metrics=['mae', 'mse'])\n",
    "model.fit(x30_sample_grid, x30_train_values, epochs=10000, callbacks=[es])\n",
    "\n",
    "es = EarlyStopping(monitor='mse', min_delta = 0, patience = 100, mode='min',verbose=1, restore_best_weights = 1)\n",
    "\n",
    "model.compile(optimizer='adadelta',\n",
    "              loss='mse',\n",
    "              metrics=['mae', 'mse'])\n",
    "model.fit(x30_sample_grid, x30_train_values, epochs=200, callbacks=[es])\n"
   ]
  },
  {
   "cell_type": "code",
   "execution_count": null,
   "metadata": {},
   "outputs": [],
   "source": [
    "#model.fit(x30_sample_grid, x30_train_values, epochs=10000, callbacks=[es])"
   ]
  },
  {
   "cell_type": "code",
   "execution_count": null,
   "metadata": {},
   "outputs": [],
   "source": [
    "# use the ROM to time-step given the first reduced coordinate representation\n",
    "current_estimate = x30_sample_grid[0,:]\n",
    "estimated_trajectory = 0*x30_sample_grid\n",
    "estimated_trajectory[0,:] = current_estimate\n",
    "nn = np.r_[current_estimate, 30]\n",
    "print(current_estimate)\n",
    "print(x30_sample_grid.shape)\n",
    "print(nn)\n",
    "print(x30_sample_grid[0:1,:])\n",
    "for i in range(0,x30_sample_grid.shape[0]):\n",
    "    next_estimate = model.predict(estimated_trajectory[i:i+1,:])\n",
    "    estimated_trajectory[i+1,:-1] = next_estimate\n",
    "    print(i)\n",
    "    \n",
    "#fig, ax = plt.subplots()    \n",
    "#ax.plot(x30[:,0])\n",
    "#ax.plot(estimated_trajectory[:,0])"
   ]
  },
  {
   "cell_type": "code",
   "execution_count": null,
   "metadata": {},
   "outputs": [],
   "source": [
    "fig, ax = plt.subplots()    \n",
    "ax.plot(x30[0:1000,0])\n",
    "ax.plot(estimated_trajectory[0:1000,0])"
   ]
  },
  {
   "cell_type": "code",
   "execution_count": null,
   "metadata": {},
   "outputs": [],
   "source": [
    "np.argmax(train_values, axis = 1)"
   ]
  },
  {
   "cell_type": "code",
   "execution_count": null,
   "metadata": {},
   "outputs": [],
   "source": [
    "np.argmax(pred_sg, axis=1) - np.argmax(train_values, axis = 1)"
   ]
  },
  {
   "cell_type": "code",
   "execution_count": null,
   "metadata": {},
   "outputs": [],
   "source": [
    "f_fine_sample_grid = open('fine_sample_grid.txt', 'r')\n",
    "fine_sample_grid = np.loadtxt(f_fine_sample_grid)\n",
    "print(fine_sample_grid.shape)\n",
    "print(fine_sample_grid)"
   ]
  },
  {
   "cell_type": "code",
   "execution_count": null,
   "metadata": {},
   "outputs": [],
   "source": [
    "pred_fsg = model.predict(fine_sample_grid)\n",
    "np.set_printoptions(threshold=np.inf)\n",
    "print(pred_fsg.shape)\n",
    "np.savetxt('pred_fsg.txt', pred_fsg)\n",
    "#np.argmax(pred_fsg, axis=1)"
   ]
  },
  {
   "cell_type": "code",
   "execution_count": null,
   "metadata": {},
   "outputs": [],
   "source": [
    "#f_combination_optimal_c = open('combination_optimal_c.txt', 'r')\n",
    "#combination_optimal_c = np.loadtxt(f_combination_optimal_c)\n",
    "#print(combination_optimal_c)\n",
    "#print(sample_grid.shape)\n",
    "#print(train_values.shape)\n",
    "#print(combination_optimal_c.shape)\n",
    "#detailed_train_values = combination_optimal_c.reshape(1640)\n",
    "#print(detailed_train_values.shape)"
   ]
  },
  {
   "cell_type": "code",
   "execution_count": null,
   "metadata": {},
   "outputs": [],
   "source": [
    "#model_2 = keras.Sequential([\n",
    "#    keras.layers.Dense(2, activation='relu'),\n",
    "#    keras.layers.Dense(1024, activation='relu'),\n",
    "#    keras.layers.Dense(1024, activation='relu'),\n",
    "#    keras.layers.Dense(8, activation='softmax')\n",
    "#])\n",
    "#model_2.compile(optimizer='adam',\n",
    "#              loss='sparse_categorical_crossentropy',\n",
    "#              metrics=['accuracy'])\n",
    "#model_2.fit(fine_sample_grid, detailed_train_values, epochs=500)"
   ]
  },
  {
   "cell_type": "code",
   "execution_count": null,
   "metadata": {},
   "outputs": [],
   "source": [
    "#pred_mod2 = model_2.predict(fine_sample_grid)\n",
    "#save_pred_mod2_fsg = np.argmax(pred_mod2, axis=1)\n",
    "#np.savetxt('save_pred_mod2_fsg.txt', save_pred_mod2_fsg)"
   ]
  },
  {
   "cell_type": "code",
   "execution_count": null,
   "metadata": {},
   "outputs": [],
   "source": [
    "pred_mod1 = np.argmax(pred_fsg, axis=1)\n",
    "#np.savetxt('smart_save_pred_mod1_fsg.txt', pred_mod1)"
   ]
  },
  {
   "cell_type": "code",
   "execution_count": null,
   "metadata": {},
   "outputs": [],
   "source": []
  },
  {
   "cell_type": "code",
   "execution_count": null,
   "metadata": {},
   "outputs": [],
   "source": []
  }
 ],
 "metadata": {
  "kernelspec": {
   "display_name": "Python 3",
   "language": "python",
   "name": "python3"
  },
  "language_info": {
   "codemirror_mode": {
    "name": "ipython",
    "version": 3
   },
   "file_extension": ".py",
   "mimetype": "text/x-python",
   "name": "python",
   "nbconvert_exporter": "python",
   "pygments_lexer": "ipython3",
   "version": "3.8.5"
  }
 },
 "nbformat": 4,
 "nbformat_minor": 2
}
